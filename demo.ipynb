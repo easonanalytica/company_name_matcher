{
 "cells": [
  {
   "cell_type": "markdown",
   "id": "343fc2b2-2570-43a2-a3c5-c2044d59e44e",
   "metadata": {},
   "source": [
    "# Demo of Company Name Matcher"
   ]
  },
  {
   "cell_type": "markdown",
   "id": "ac2bea40-1bc2-4b0f-b47b-0f6efc425d26",
   "metadata": {},
   "source": [
    "This notebook demostrates the basic use cases of Company Name Matcher and compares it with other matching techniques (e.g., RapidFuzz)."
   ]
  },
  {
   "cell_type": "markdown",
   "id": "4f68a20d-fd9d-4ef3-9f56-80e1664853a3",
   "metadata": {},
   "source": [
    "# Import and Setup"
   ]
  },
  {
   "cell_type": "code",
   "execution_count": null,
   "id": "5f732a5a-c404-49db-bfa0-b97d7f1d545d",
   "metadata": {},
   "outputs": [],
   "source": [
    "!pip install RapidFuzz pandas"
   ]
  },
  {
   "cell_type": "code",
   "execution_count": 2,
   "id": "f7f37684-3316-43fd-8ed1-43b29503b7ca",
   "metadata": {},
   "outputs": [],
   "source": [
    "import pandas as pd # Data I/O \n",
    "import re # Preprocess\n",
    "from rapidfuzz import fuzz # matcher 1\n",
    "from company_name_matcher import CompanyNameMatcher # matcher 2"
   ]
  },
  {
   "cell_type": "markdown",
   "id": "a321dac4-6bd4-4609-be98-bc08efca04e2",
   "metadata": {},
   "source": [
    "# Initialize the matchers"
   ]
  },
  {
   "cell_type": "markdown",
   "id": "63851947-82f5-4152-bf9e-4ef509edbeb8",
   "metadata": {},
   "source": [
    "## Rapid Fuzz"
   ]
  },
  {
   "cell_type": "code",
   "execution_count": 3,
   "id": "0ac51e8c-79c6-410c-a2bf-f534e2e8a7f8",
   "metadata": {},
   "outputs": [],
   "source": [
    "def rapid_fuzz_matcher(x1, x2):\n",
    "    return fuzz.ratio(x1, x2) / 100"
   ]
  },
  {
   "cell_type": "markdown",
   "id": "0bc5dbd1-c0d9-40ff-9789-4b09d040de30",
   "metadata": {},
   "source": [
    "## Matcher with a default model"
   ]
  },
  {
   "cell_type": "code",
   "execution_count": 4,
   "id": "8b831b37-4934-48f0-a4a2-a45fe0068cca",
   "metadata": {},
   "outputs": [],
   "source": [
    "# Simple function to clean the names; we can further remove the stops words (e.g., limited, inc) if needed.\n",
    "def preprocess_name1(name):\n",
    "    return re.sub(r'[^a-zA-Z0-9\\s]', '', name.lower()).strip()\n",
    "    \n",
    "default_matcher = CompanyNameMatcher(\n",
    "    \"sentence-transformers/paraphrase-multilingual-MiniLM-L12-v2\", \n",
    "    preprocess_fn = preprocess_name1\n",
    ")"
   ]
  },
  {
   "cell_type": "markdown",
   "id": "02dcfda1-c7f0-41ae-8f32-111037a11714",
   "metadata": {},
   "source": [
    "## Matcher with our fine-tuned model"
   ]
  },
  {
   "cell_type": "code",
   "execution_count": 5,
   "id": "0f8b4b1a-4583-4d89-afb5-47b90d855a14",
   "metadata": {},
   "outputs": [],
   "source": [
    "def preprocess_name2(name):\n",
    "    return \"$\" + name.strip() + \"$\"\n",
    "    \n",
    "finetuned_matcher = CompanyNameMatcher(\n",
    "    \"models/multilingual-MiniLM-small-v1\", \n",
    "    preprocess_fn = preprocess_name2\n",
    ")"
   ]
  },
  {
   "cell_type": "markdown",
   "id": "8b9e593a-282a-4073-b7df-d9794ba89a09",
   "metadata": {},
   "source": [
    "# 1. Pair-wise matching"
   ]
  },
  {
   "cell_type": "code",
   "execution_count": 6,
   "id": "02054e11-b45a-4d07-80a3-d54955deb8dd",
   "metadata": {},
   "outputs": [
    {
     "name": "stdout",
     "output_type": "stream",
     "text": [
      "Apple vs Microsoft Corporation\n",
      "--------------------------------------------------\n",
      "Rapid Fuzz:  0.08\n",
      "Default Matcher:  0.34\n",
      "Finetuned Matcher:  0.15\n",
      "\n",
      "\n",
      "Apple vs Apple Inc\n",
      "--------------------------------------------------\n",
      "Rapid Fuzz:  0.71\n",
      "Default Matcher:  0.91\n",
      "Finetuned Matcher:  0.74\n",
      "\n",
      "\n",
      "Apple vs Google\n",
      "--------------------------------------------------\n",
      "Rapid Fuzz:  0.36\n",
      "Default Matcher:  0.32\n",
      "Finetuned Matcher:  0.42\n",
      "\n",
      "\n",
      "Apple vs Apple Computer Inc\n",
      "--------------------------------------------------\n",
      "Rapid Fuzz:  0.43\n",
      "Default Matcher:  0.84\n",
      "Finetuned Matcher:  0.61\n",
      "\n",
      "\n",
      "Apple vs 苹果公司\n",
      "--------------------------------------------------\n",
      "Rapid Fuzz:  0.00\n",
      "Default Matcher:  0.31\n",
      "Finetuned Matcher:  0.98\n",
      "\n",
      "\n"
     ]
    }
   ],
   "source": [
    "basic_companies = [\n",
    "    \"Microsoft Corporation\",\n",
    "    \"Apple Inc\",\n",
    "    \"Google\",\n",
    "    \"Apple Computer Inc\",\n",
    "    \"苹果公司\",          # Apple Inc. in Chinese\n",
    "]\n",
    "for company in basic_companies:\n",
    "    similarity1 = rapid_fuzz_matcher(\"Apple\", company)\n",
    "    similarity2 = default_matcher.compare_companies(\"Apple\", company)\n",
    "    similarity3 = finetuned_matcher.compare_companies(\"Apple\", company)\n",
    "    print(f\"Apple vs {company}\")\n",
    "    print(\"-\" * 50)\n",
    "    print(f\"Rapid Fuzz: {similarity1: .2f}\")\n",
    "    print(f\"Default Matcher: {similarity2: .2f}\")\n",
    "    print(f\"Finetuned Matcher: {similarity3: .2f}\")\n",
    "    print(\"\\n\")"
   ]
  },
  {
   "cell_type": "markdown",
   "id": "4c608c80-266e-476b-b345-2d564eecd6b8",
   "metadata": {},
   "source": [
    "# 2. Bulk matching"
   ]
  },
  {
   "cell_type": "code",
   "execution_count": 7,
   "id": "51eb0cec-02f2-4365-9186-9a6698f84eb3",
   "metadata": {},
   "outputs": [
    {
     "data": {
      "text/html": [
       "<div>\n",
       "<style scoped>\n",
       "    .dataframe tbody tr th:only-of-type {\n",
       "        vertical-align: middle;\n",
       "    }\n",
       "\n",
       "    .dataframe tbody tr th {\n",
       "        vertical-align: top;\n",
       "    }\n",
       "\n",
       "    .dataframe thead th {\n",
       "        text-align: right;\n",
       "    }\n",
       "</style>\n",
       "<table border=\"1\" class=\"dataframe\">\n",
       "  <thead>\n",
       "    <tr style=\"text-align: right;\">\n",
       "      <th></th>\n",
       "      <th>Name_x</th>\n",
       "      <th>Name_y</th>\n",
       "      <th>Targets</th>\n",
       "    </tr>\n",
       "  </thead>\n",
       "  <tbody>\n",
       "    <tr>\n",
       "      <th>0</th>\n",
       "      <td>alfred Jäggi AG</td>\n",
       "      <td>A. Jaggi Ag</td>\n",
       "      <td>1</td>\n",
       "    </tr>\n",
       "    <tr>\n",
       "      <th>1</th>\n",
       "      <td>Amy Mary LLC</td>\n",
       "      <td>Amy-Mary, llc</td>\n",
       "      <td>1</td>\n",
       "    </tr>\n",
       "    <tr>\n",
       "      <th>2</th>\n",
       "      <td>aNM INTERNATIONAL Co.</td>\n",
       "      <td>Anm International</td>\n",
       "      <td>1</td>\n",
       "    </tr>\n",
       "    <tr>\n",
       "      <th>3</th>\n",
       "      <td>Antalis Verpackungen GmbH</td>\n",
       "      <td>Antalis Verpackungen Gmbh</td>\n",
       "      <td>1</td>\n",
       "    </tr>\n",
       "    <tr>\n",
       "      <th>4</th>\n",
       "      <td>Apofruit Italia - Pievesestina</td>\n",
       "      <td>Apofruit Italia Soc.Coop.Agr.</td>\n",
       "      <td>1</td>\n",
       "    </tr>\n",
       "    <tr>\n",
       "      <th>...</th>\n",
       "      <td>...</td>\n",
       "      <td>...</td>\n",
       "      <td>...</td>\n",
       "    </tr>\n",
       "    <tr>\n",
       "      <th>195</th>\n",
       "      <td>Qingdao Taibo Trading Co., Ltd.</td>\n",
       "      <td>QINGDAO TYQ TRADING CO LTD</td>\n",
       "      <td>0</td>\n",
       "    </tr>\n",
       "    <tr>\n",
       "      <th>196</th>\n",
       "      <td>Guangzhou Wenzhao LCD Technology Co., Ltd.</td>\n",
       "      <td>Guangzhou Weidi Technology Co., Ltd.</td>\n",
       "      <td>0</td>\n",
       "    </tr>\n",
       "    <tr>\n",
       "      <th>197</th>\n",
       "      <td>Dongguan Qisheng Optoelectronics Co., Ltd</td>\n",
       "      <td>Dongguan Meisen Electronics Co., Ltd</td>\n",
       "      <td>0</td>\n",
       "    </tr>\n",
       "    <tr>\n",
       "      <th>198</th>\n",
       "      <td>Wanhua Chemical (Yantai) Sales Co.，LTD.</td>\n",
       "      <td>Hanhua Chemical Ningbo Co., Ltd</td>\n",
       "      <td>0</td>\n",
       "    </tr>\n",
       "    <tr>\n",
       "      <th>199</th>\n",
       "      <td>Anhui Kenxin New Material Co., LTD</td>\n",
       "      <td>Anhui Derui New Materials Co.,Ltd</td>\n",
       "      <td>0</td>\n",
       "    </tr>\n",
       "  </tbody>\n",
       "</table>\n",
       "<p>200 rows × 3 columns</p>\n",
       "</div>"
      ],
      "text/plain": [
       "                                         Name_x  \\\n",
       "0                               alfred Jäggi AG   \n",
       "1                                  Amy Mary LLC   \n",
       "2                         aNM INTERNATIONAL Co.   \n",
       "3                     Antalis Verpackungen GmbH   \n",
       "4                Apofruit Italia - Pievesestina   \n",
       "..                                          ...   \n",
       "195             Qingdao Taibo Trading Co., Ltd.   \n",
       "196  Guangzhou Wenzhao LCD Technology Co., Ltd.   \n",
       "197   Dongguan Qisheng Optoelectronics Co., Ltd   \n",
       "198     Wanhua Chemical (Yantai) Sales Co.，LTD.   \n",
       "199          Anhui Kenxin New Material Co., LTD   \n",
       "\n",
       "                                   Name_y  Targets  \n",
       "0                             A. Jaggi Ag        1  \n",
       "1                           Amy-Mary, llc        1  \n",
       "2                       Anm International        1  \n",
       "3               Antalis Verpackungen Gmbh        1  \n",
       "4           Apofruit Italia Soc.Coop.Agr.        1  \n",
       "..                                    ...      ...  \n",
       "195            QINGDAO TYQ TRADING CO LTD        0  \n",
       "196  Guangzhou Weidi Technology Co., Ltd.        0  \n",
       "197  Dongguan Meisen Electronics Co., Ltd        0  \n",
       "198       Hanhua Chemical Ningbo Co., Ltd        0  \n",
       "199     Anhui Derui New Materials Co.,Ltd        0  \n",
       "\n",
       "[200 rows x 3 columns]"
      ]
     },
     "execution_count": 7,
     "metadata": {},
     "output_type": "execute_result"
    }
   ],
   "source": [
    "data = pd.read_csv(\"tests/test_data.csv\")\n",
    "data"
   ]
  },
  {
   "cell_type": "markdown",
   "id": "e81d4399-f09e-410f-9a9c-17f65c1a4e06",
   "metadata": {},
   "source": [
    "## Build, Load, Expend Index"
   ]
  },
  {
   "cell_type": "markdown",
   "id": "dfccab0b-b2e6-4559-a64b-a85a08a60170",
   "metadata": {},
   "source": [
    "We only need to build index once"
   ]
  },
  {
   "cell_type": "code",
   "execution_count": 8,
   "id": "e2a9ccd3-1505-4b27-984a-e52b0dbfbbe0",
   "metadata": {},
   "outputs": [],
   "source": [
    "# We can have further cleaning here\n",
    "companies_to_match = data[\"Name_y\"].to_list()"
   ]
  },
  {
   "cell_type": "code",
   "execution_count": 9,
   "id": "19bc1eb6-0f09-4db3-a1cb-c7f3aacde70f",
   "metadata": {},
   "outputs": [],
   "source": [
    "finetuned_matcher.build_index(\n",
    "    companies_to_match, \n",
    "    n_clusters = 20, \n",
    "    save_dir=\"index_files\"\n",
    ")"
   ]
  },
  {
   "cell_type": "markdown",
   "id": "686525d0-572a-4d83-b894-2bdcd7e21d5d",
   "metadata": {},
   "source": [
    "Next time, we can simply load the saved index files"
   ]
  },
  {
   "cell_type": "code",
   "execution_count": 10,
   "id": "791496e0-a547-4b33-9f05-3646f0d15d5d",
   "metadata": {},
   "outputs": [],
   "source": [
    "finetuned_matcher.load_index(load_dir=\"index_files\")"
   ]
  },
  {
   "cell_type": "markdown",
   "id": "215e86fd-3682-4e4a-8a90-2785f9dc0217",
   "metadata": {},
   "source": [
    "We can optionally expend the index without rebuilding the whole index"
   ]
  },
  {
   "cell_type": "code",
   "execution_count": 11,
   "id": "588c73ee-4145-4d1c-8166-35877a3c2916",
   "metadata": {},
   "outputs": [],
   "source": [
    "new_companies = [\n",
    "    \"Palantir Technologies\",\n",
    "    \"Dell Technologies\"\n",
    "]"
   ]
  },
  {
   "cell_type": "code",
   "execution_count": 12,
   "id": "1e5e7a44-ec23-4192-80f2-bd69c7be49b1",
   "metadata": {},
   "outputs": [],
   "source": [
    "finetuned_matcher.expand_index(\n",
    "    new_companies, \n",
    "    save_dir=\"index_files\" # Update the existing index files\n",
    ")"
   ]
  },
  {
   "cell_type": "markdown",
   "id": "bf17f661-c1cc-41c3-93bb-78ca6c7fab29",
   "metadata": {},
   "source": [
    "## Exact Search"
   ]
  },
  {
   "cell_type": "code",
   "execution_count": 13,
   "id": "2c164a5f-a76c-42ce-bf38-0191ea579e47",
   "metadata": {},
   "outputs": [
    {
     "name": "stdout",
     "output_type": "stream",
     "text": [
      "Exact Search Results:\n",
      "Exact matches: [('Palantir Technologies', 0.78598243)]\n",
      "\n",
      "CPU times: user 42.3 ms, sys: 8.78 ms, total: 51.1 ms\n",
      "Wall time: 51.8 ms\n"
     ]
    }
   ],
   "source": [
    "%%time\n",
    "\n",
    "print(\"Exact Search Results:\")\n",
    "exact_matches = finetuned_matcher.find_matches(\n",
    "    \"Palantir\",\n",
    "    threshold=0.7,\n",
    "    use_approx=False\n",
    ")\n",
    "print(f\"Exact matches: {exact_matches}\\n\")"
   ]
  },
  {
   "cell_type": "markdown",
   "id": "4a5eec02-7b9c-4c7f-8cbf-ba5cc2b3a806",
   "metadata": {},
   "source": [
    "## Approximate Search "
   ]
  },
  {
   "cell_type": "code",
   "execution_count": 14,
   "id": "f7050202-34d1-4e3c-9b39-8079a2b105c7",
   "metadata": {},
   "outputs": [
    {
     "name": "stdout",
     "output_type": "stream",
     "text": [
      "Approximate Search Results:\n",
      "Approximate matches: [('Palantir Technologies', 0.7859824)]\n",
      "\n",
      "CPU times: user 54.2 ms, sys: 58.2 ms, total: 112 ms\n",
      "Wall time: 44.7 ms\n"
     ]
    }
   ],
   "source": [
    "%%time\n",
    "\n",
    "print(\"Approximate Search Results:\")\n",
    "approx_matches = finetuned_matcher.find_matches(\n",
    "    \"Palantir\",\n",
    "    threshold=0.7,\n",
    "    k=1,\n",
    "    use_approx=True\n",
    ")\n",
    "print(f\"Approximate matches: {approx_matches}\\n\")"
   ]
  },
  {
   "cell_type": "markdown",
   "id": "c0f6929c-e3c3-436e-80cc-8d4a85dd6139",
   "metadata": {},
   "source": [
    "# 3. Working with Embeddings"
   ]
  },
  {
   "cell_type": "code",
   "execution_count": 15,
   "id": "86832880-3bd4-40cf-8528-4191a0daa402",
   "metadata": {},
   "outputs": [
    {
     "name": "stdout",
     "output_type": "stream",
     "text": [
      "4. Working with Embeddings\n",
      "----------------------------------------\n",
      "Single company embedding shape: (384,)\n"
     ]
    }
   ],
   "source": [
    "print(\"4. Working with Embeddings\")\n",
    "print(\"-\" * 40)\n",
    "# Single company embedding\n",
    "single_embedding = finetuned_matcher.get_embedding(\"Apple Inc\")\n",
    "print(f\"Single company embedding shape: {single_embedding.shape}\")"
   ]
  }
 ],
 "metadata": {
  "kernelspec": {
   "display_name": "Python 3 (ipykernel)",
   "language": "python",
   "name": "python3"
  },
  "language_info": {
   "codemirror_mode": {
    "name": "ipython",
    "version": 3
   },
   "file_extension": ".py",
   "mimetype": "text/x-python",
   "name": "python",
   "nbconvert_exporter": "python",
   "pygments_lexer": "ipython3",
   "version": "3.9.0"
  }
 },
 "nbformat": 4,
 "nbformat_minor": 5
}
